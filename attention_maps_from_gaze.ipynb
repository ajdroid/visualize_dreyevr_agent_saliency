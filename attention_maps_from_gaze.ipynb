{
 "cells": [
  {
   "cell_type": "code",
   "execution_count": null,
   "id": "f39ccfd6-5f7e-434e-9a92-828f4f9c83f1",
   "metadata": {},
   "outputs": [],
   "source": [
    "%load_ext autoreload\n",
    "%autoreload 2"
   ]
  },
  {
   "cell_type": "code",
   "execution_count": null,
   "id": "3932d3f8-4c50-42db-a4fa-8fb2c8af7419",
   "metadata": {},
   "outputs": [],
   "source": [
    "from pathlib import Path\n",
    "import cv2\n",
    "import pickle as pkl\n",
    "import PIL\n",
    "import numpy as np\n",
    "import matplotlib.pyplot as plt\n",
    "import pandas as pd\n",
    "from copy import deepcopy\n",
    "import time\n",
    "from scipy.spatial.transform import Rotation as R"
   ]
  },
  {
   "cell_type": "code",
   "execution_count": null,
   "id": "7acdeb76-cfbf-468f-abf9-d13545709fe4",
   "metadata": {},
   "outputs": [],
   "source": [
    "from ibmmpy.src.ibmmpy.ibmm import EyeClassifier"
   ]
  },
  {
   "cell_type": "code",
   "execution_count": null,
   "id": "303bae80-28bb-4219-b1eb-c8ed19512cd2",
   "metadata": {},
   "outputs": [],
   "source": [
    "dataset_root = Path(\"/scratch/abhijatb/Bosch22/dreyevr_recordings_sensors/LBC_config_gaze/\")\n",
    "route_data_path = Path(\"/scratch/abhijatb/Bosch22/dreyevr_recordings_sensors/LBC_config_gaze/exp_brady32\")"
   ]
  },
  {
   "cell_type": "code",
   "execution_count": null,
   "id": "556812f9-8384-447c-91e9-b7f41a0b0a93",
   "metadata": {},
   "outputs": [],
   "source": []
  },
  {
   "cell_type": "code",
   "execution_count": null,
   "id": "fddbdee3-78a1-4a93-8c6f-96ed7150e903",
   "metadata": {},
   "outputs": [],
   "source": []
  },
  {
   "cell_type": "code",
   "execution_count": null,
   "id": "4fd67e9c-1cff-420c-8bec-8c348e4e819d",
   "metadata": {},
   "outputs": [],
   "source": [
    "# read focus hitpts from the aux replay outputs and parse them"
   ]
  },
  {
   "cell_type": "code",
   "execution_count": null,
   "id": "bbf03ef7-bc6d-4fde-9dec-0d93f417d931",
   "metadata": {},
   "outputs": [],
   "source": [
    "# match them up to the OG replay dataframes"
   ]
  },
  {
   "cell_type": "code",
   "execution_count": null,
   "id": "ed3a211a-0af8-4a1a-ab82-f0c3f2c62a4f",
   "metadata": {},
   "outputs": [],
   "source": [
    "# then do the 3 sensor gaze overlay with corrected focus hitpts\n",
    "# (do gaze event classification)\n",
    "# then convert to attention maps (history + dispersion)"
   ]
  }
 ],
 "metadata": {
  "kernelspec": {
   "display_name": "Python 3 (ipykernel)",
   "language": "python",
   "name": "python3"
  },
  "language_info": {
   "codemirror_mode": {
    "name": "ipython",
    "version": 3
   },
   "file_extension": ".py",
   "mimetype": "text/x-python",
   "name": "python",
   "nbconvert_exporter": "python",
   "pygments_lexer": "ipython3",
   "version": "3.8.6"
  }
 },
 "nbformat": 4,
 "nbformat_minor": 5
}
